{
 "cells": [
  {
   "cell_type": "markdown",
   "id": "567e2e56-b9fa-49ff-b672-a040cc537818",
   "metadata": {},
   "source": [
    "### **Exercise: Game of Life (no xarray, just python practice)**\n",
    "\n",
    "Implement [Conway's game of life](https://en.wikipedia.org/wiki/Conway%27s_Game_of_Life) using numpy array to hold data.\n",
    "Neighbours are defined as adjacent cells (all the 8).\n",
    "\n",
    " - Any LIVING cell with 2 or 3 neighbours survives.\n",
    " - Any DEAD cell with 3 neighbours comes alive.\n",
    " - Any OTHER LIVING cell dies.\n",
    " - All deaths and births occur simultaneously\n",
    "\n",
    "So, at each step you need:\n",
    "\n",
    " - calculate the number of neighnours\n",
    " - set \"dead\" or \"alive\" status according to the above\n",
    " - plot\n",
    "\n",
    "### Hints and directions:\n",
    "\n",
    "*Implement everything in a class*.\n",
    "\n",
    "For initial conditions: two files \"ships.txt\" and \"guns.txt\" are provided in data folder (but feel free to create your own if you wish), you can read them like\n",
    "\n",
    "```python\n",
    "field=np.genfromtxt(\"ships.txt\").transpose()\n",
    "```\n",
    "\n",
    "For plotting: Jupyter is very finicky with \"real-time\" plots and there is a high chance it will refuse to plot everything in one frame even if you try all the stackoverflow solutions, so I propose just using a script to run your program. Try the following code to produce \"animation\" to test that it works:\n",
    "\n",
    "```python\n",
    "import numpy as np\n",
    "import matplotlib.pyplot as plt\n",
    "\n",
    "plt.axis([0, 10, 0, 1])\n",
    "\n",
    "for i in range(10):\n",
    "    y = np.random.random()\n",
    "    plt.scatter(i, y)\n",
    "    plt.pause(0.5)\n",
    "plt.show()\n",
    "\n",
    "```"
   ]
  },
  {
   "cell_type": "code",
   "execution_count": 8,
   "id": "2edc245d-0edd-4fe2-b1fb-2a1be863f366",
   "metadata": {},
   "outputs": [],
   "source": [
    "from matplotlib.animation import FuncAnimation"
   ]
  },
  {
   "cell_type": "code",
   "execution_count": 15,
   "id": "646ae670-4f06-4bef-a161-b2ad0d9a8089",
   "metadata": {},
   "outputs": [],
   "source": [
    "import numpy as np\n",
    "import matplotlib.pyplot as plt\n",
    "\n",
    "class GameOfLife:\n",
    "    def __init__(self, initial_state):\n",
    "        self.grid = initial_state\n",
    "\n",
    "    def count_neighbors(self, x, y):\n",
    "        neighbors = [\n",
    "            self.grid[x-1, y-1], self.grid[x-1, y], self.grid[x-1, y+1],\n",
    "            self.grid[x, y-1],                     self.grid[x, y+1],\n",
    "            self.grid[x+1, y-1], self.grid[x+1, y], self.grid[x+1, y+1]\n",
    "        ]\n",
    "        return np.sum(neighbors)\n",
    "\n",
    "    def update(self):\n",
    "        new_grid = self.grid.copy()\n",
    "\n",
    "        for i in range(1, self.grid.shape[0] - 1):\n",
    "            for j in range(1, self.grid.shape[1] - 1):\n",
    "                count = self.count_neighbors(i, j)\n",
    "\n",
    "                # Apply Conway's Game of Life rules\n",
    "                if self.grid[i, j] == 1:  # Living cell\n",
    "                    if count not in [2, 3]:\n",
    "                        new_grid[i, j] = 0  # Dies\n",
    "                elif count == 3:\n",
    "                    new_grid[i, j] = 1  # Comes alive\n",
    "\n",
    "        self.grid = new_grid\n",
    "\n",
    "    def plot(self):\n",
    "        plt.imshow(self.grid, cmap='binary', interpolation='nearest')\n",
    "        plt.show()\n",
    "\n",
    "\n",
    "# Create the GameOfLife instance with the 10 by 10 initial state\n",
    "\n"
   ]
  },
  {
   "cell_type": "code",
   "execution_count": 24,
   "id": "dec4a85e-0119-4c36-b1a5-80a4cffb8e70",
   "metadata": {},
   "outputs": [
    {
     "data": {
      "image/png": "[encoded data removed]",
      "text/plain": [
       "<Figure size 640x480 with 1 Axes>"
      ]
     },
     "metadata": {},
     "output_type": "display_data"
    }
   ],
   "source": [
    "from matplotlib.animation import FuncAnimation\n",
    "\n",
    "def generate_binary_matrix(N):\n",
    "    return np.random.choice([0, 1], size=(N, N))\n",
    "\n",
    "# Specify the size of the matrix (replace 5 with your desired size)\n",
    "N = 20\n",
    "\n",
    "# Generate the NxN binary matrix\n",
    "initial_state = np.genfromtxt(\"data/ships.txt\").transpose()\n",
    "\n",
    "\n",
    "def update(frame):\n",
    "    #old = laplace_solver.grid\n",
    "    gol.update()\n",
    "    im.set_array(gol.grid)\n",
    "    return [im]\n",
    "\n",
    "gol = GameOfLife(initial_state)\n",
    "\n",
    "fig, ax = plt.subplots()  \n",
    "im = ax.imshow(gol.grid, cmap='binary', interpolation='nearest')\n",
    "ax.set_title('Game of Life')\n",
    "ax.set_xlabel('X-axis')\n",
    "ax.set_ylabel('Y-axis')\n",
    "\n",
    "# Set up the animation\n",
    "animation = FuncAnimation(fig, update, frames=range(100), interval=2, blit=True)\n",
    "\n",
    "# Save the animation as a GIF\n",
    "animation.save('GOL.gif', writer='pillow')\n",
    "\n",
    "# Display the animation in the Jupyter Notebook\n",
    "#html_output = HTML(animation.to_jshtml())\n",
    "#display(html_output)"
   ]
  },
  {
   "cell_type": "code",
   "execution_count": null,
   "id": "797ad1e5-074d-4761-ac9d-1b13a52a91e7",
   "metadata": {},
   "outputs": [],
   "source": []
  }
 ],
 "metadata": {
  "kernelspec": {
   "display_name": "Python 3 (ipykernel)",
   "language": "python",
   "name": "python3"
  },
  "language_info": {
   "codemirror_mode": {
    "name": "ipython",
    "version": 3
   },
   "file_extension": ".py",
   "mimetype": "text/x-python",
   "name": "python",
   "nbconvert_exporter": "python",
   "pygments_lexer": "ipython3",
   "version": "3.11.7"
  }
 },
 "nbformat": 4,
 "nbformat_minor": 5
}
