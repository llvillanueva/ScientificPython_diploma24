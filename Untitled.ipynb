{
 "cells": [
  {
   "cell_type": "code",
   "execution_count": 3,
   "id": "eb307cc3-56c4-4911-ab56-53091bb4c067",
   "metadata": {},
   "outputs": [
    {
     "name": "stdout",
     "output_type": "stream",
     "text": [
      "Processing array: [1, 3]\n",
      "Processing array: [1]\n"
     ]
    }
   ],
   "source": [
    "def check_empty_array(func):\n",
    "    def wrapper(arr):\n",
    "        if not arr:\n",
    "            print(\"Array is empty. Function not called.\")\n",
    "        else:\n",
    "            return func(arr)\n",
    "    return wrapper\n",
    "\n",
    "@check_empty_array\n",
    "def process_array(arr):\n",
    "    print(\"Processing array:\", arr)\n",
    "\n",
    "# Example usage\n",
    "process_array([1, 3])  # Function will be called and array is not empty\n",
    "process_array([1])        # Function will not be called as the array is empty"
   ]
  },
  {
   "cell_type": "code",
   "execution_count": 9,
   "id": "a7f00ebe-c349-43db-896b-d453600f204e",
   "metadata": {},
   "outputs": [
    {
     "name": "stdout",
     "output_type": "stream",
     "text": [
      "Array: [1]\n"
     ]
    }
   ],
   "source": [
    "\n",
    "array([1])   "
   ]
  },
  {
   "cell_type": "code",
   "execution_count": null,
   "id": "458bbdf8-03ee-423f-8896-481713238acc",
   "metadata": {},
   "outputs": [],
   "source": []
  }
 ],
 "metadata": {
  "kernelspec": {
   "display_name": "Python 3 (ipykernel)",
   "language": "python",
   "name": "python3"
  },
  "language_info": {
   "codemirror_mode": {
    "name": "ipython",
    "version": 3
   },
   "file_extension": ".py",
   "mimetype": "text/x-python",
   "name": "python",
   "nbconvert_exporter": "python",
   "pygments_lexer": "ipython3",
   "version": "3.11.7"
  }
 },
 "nbformat": 4,
 "nbformat_minor": 5
}
