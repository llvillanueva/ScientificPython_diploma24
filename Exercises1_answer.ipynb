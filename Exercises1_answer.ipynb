{
 "cells": [
  {
   "cell_type": "markdown",
   "metadata": {},
   "source": [
    "### **Exercise 1:**\n",
    "The Recamán sequence is a famous sequence invented by the Colombian mathematician, Bernardo Recamán Santos. It is defined by the following algorithm, starting at $a_0=0$:\n",
    "\n",
    "$ a_n=a_{n-1}−n$ if $a_{n-1}-n > 0  $ and has not already appeared in the sequence; \n",
    "\n",
    "$ a_n=a_{n−1}+n$ otherwise\n",
    "\n",
    "Write a function that returns the first N elements of this sequence."
   ]
  },
  {
   "cell_type": "code",
   "execution_count": 143,
   "metadata": {},
   "outputs": [
    {
     "data": {
      "text/plain": [
       "[0, 1, 3, 6, 2, 7, 13, 20, 12, 21, 11, 22]"
      ]
     },
     "execution_count": 143,
     "metadata": {},
     "output_type": "execute_result"
    }
   ],
   "source": [
    "#%%timeit\n",
    "def Recaman(N):\n",
    "    a = []\n",
    "    a.append(0)\n",
    "    for n in range(1, N):\n",
    "        if a[n-1] - n > 0 and (a[n-1] - n) not in a:\n",
    "            a.append(a[n-1] - n)\n",
    "        else:\n",
    "            a.append(a[n-1] + n)\n",
    "    return a\n",
    "\n",
    "N = 12\n",
    "Recaman(N)"
   ]
  },
  {
   "cell_type": "code",
   "execution_count": 150,
   "metadata": {},
   "outputs": [
    {
     "data": {
      "text/plain": [
       "[0, 1, 3, 6, 2, 7, 13, 20, 12, 21, 11, 22]"
      ]
     },
     "execution_count": 150,
     "metadata": {},
     "output_type": "execute_result"
    }
   ],
   "source": [
    "#%%timeit\n",
    "def Recaman2(N):\n",
    "    a = [0]\n",
    "    b = {0}\n",
    "    for n in range(1, N):\n",
    "        if a[n-1] - n > 0 and (a[n-1] - n) not in b:\n",
    "            a.append(a[n-1] - n)\n",
    "            b.add(a[n-1] + n)\n",
    "        else:\n",
    "            a.append(a[n-1] + n)\n",
    "            b.add(a[n-1] + n)\n",
    "    return a\n",
    "\n",
    "\n",
    "N = 12\n",
    "Recaman2(N)"
   ]
  },
  {
   "cell_type": "code",
   "execution_count": 151,
   "metadata": {},
   "outputs": [
    {
     "name": "stdout",
     "output_type": "stream",
     "text": [
      "373 ms ± 11.7 ms per loop (mean ± std. dev. of 7 runs, 1 loop each)\n",
      "4.04 ms ± 367 µs per loop (mean ± std. dev. of 7 runs, 100 loops each)\n"
     ]
    }
   ],
   "source": [
    "N = 10000\n",
    "%timeit Recaman(N)\n",
    "%timeit Recaman2(N)"
   ]
  },
  {
   "cell_type": "markdown",
   "metadata": {},
   "source": [
    "### **Exercise 2:**\n",
    "Write a function to solve a quadratic equation."
   ]
  },
  {
   "cell_type": "code",
   "execution_count": null,
   "metadata": {},
   "outputs": [],
   "source": [
    "!conda install numpy"
   ]
  },
  {
   "cell_type": "code",
   "execution_count": 37,
   "metadata": {},
   "outputs": [
    {
     "name": "stdout",
     "output_type": "stream",
     "text": [
      "The real roots are -0.5278640450004204 and -9.47213595499958\n"
     ]
    }
   ],
   "source": [
    "def quadsolver(a, b, c):\n",
    "    disc = b**2 - 4*a*c\n",
    "    if disc > 0:\n",
    "        r1 = (-b + (disc)**(.5))/(2*a)\n",
    "        r2 = (-b - (disc)**(.5))/(2*a)\n",
    "        print(\"The real roots are {} and {}\".format(r1,r2))\n",
    "    elif disc < 0: \n",
    "        print(\"No real roots\")\n",
    "    else:\n",
    "        r1 = -b/(2*a)\n",
    "        print(\"The real repeated root is {}\".format(r1))\n",
    "\n",
    "quadsolver(1,10,5)"
   ]
  },
  {
   "cell_type": "markdown",
   "metadata": {},
   "source": [
    "### **Exercise 3**\n",
    "Print the list `mylist` sorted in descending order. The original list should not be modified\n"
   ]
  },
  {
   "cell_type": "code",
   "execution_count": 54,
   "metadata": {},
   "outputs": [
    {
     "name": "stdout",
     "output_type": "stream",
     "text": [
      "Sorted List\n",
      "[234, 89, 77, 11, 1, 0, -99, -748]\n",
      "Original List\n"
     ]
    },
    {
     "data": {
      "text/plain": [
       "[1, -99, 89, 0, 234, 77, -748, 11]"
      ]
     },
     "execution_count": 54,
     "metadata": {},
     "output_type": "execute_result"
    }
   ],
   "source": [
    "mylist=[1,-99,89,0,234,77,-748,11]\n",
    "\n",
    "print('Sorted List')\n",
    "print(sorted(mylist, reverse=True))\n",
    "print('Original List')\n",
    "mylist"
   ]
  },
  {
   "cell_type": "code",
   "execution_count": 35,
   "metadata": {},
   "outputs": [
    {
     "name": "stdout",
     "output_type": "stream",
     "text": [
      "Help on built-in function sorted in module builtins:\n",
      "\n",
      "sorted(iterable, /, *, key=None, reverse=False)\n",
      "    Return a new list containing all items from the iterable in ascending order.\n",
      "    \n",
      "    A custom key function can be supplied to customize the sort order, and the\n",
      "    reverse flag can be set to request the result in descending order.\n",
      "\n"
     ]
    }
   ],
   "source": [
    "help(sorted)"
   ]
  },
  {
   "cell_type": "markdown",
   "metadata": {},
   "source": [
    "### **Exercise 4:**\n",
    "Given 2 lists, produce a list containing common items between the two."
   ]
  },
  {
   "cell_type": "code",
   "execution_count": null,
   "metadata": {},
   "outputs": [],
   "source": []
  },
  {
   "cell_type": "markdown",
   "metadata": {},
   "source": [
    "### **Exercise 5:**\n",
    "Create a function that returns a list of all pairs of factors (as tuples) of a given number using list comprehension."
   ]
  },
  {
   "cell_type": "code",
   "execution_count": 177,
   "metadata": {},
   "outputs": [
    {
     "name": "stdout",
     "output_type": "stream",
     "text": [
      "[(4, 3), (6, 2), (12, 1)]\n"
     ]
    }
   ],
   "source": [
    "N = 12\n",
    "print( [(x,y) for x in range(1, N+1) for y in range(1, x) if x*y == N])"
   ]
  },
  {
   "cell_type": "markdown",
   "metadata": {},
   "source": [
    "### **Exercise 6:**\n",
    "Create a list of all numbers divisible by 3 and smaller than 1000 in 4 different ways:\n",
    " \n",
    " - naive way where you just create a list and append data in a loop\n",
    " - using list comprehension\n",
    " - slicing an existing list\n",
    " - directly with `range()`\n",
    "\n",
    "Time all of them."
   ]
  },
  {
   "cell_type": "markdown",
   "metadata": {},
   "source": [
    " - naive way where you just create a list and append data in a loop"
   ]
  },
  {
   "cell_type": "code",
   "execution_count": 72,
   "metadata": {},
   "outputs": [
    {
     "name": "stdout",
     "output_type": "stream",
     "text": [
      "88.4 µs ± 13.7 µs per loop (mean ± std. dev. of 7 runs, 10,000 loops each)\n"
     ]
    }
   ],
   "source": [
    "%%timeit\n",
    "l1 = []\n",
    "for i in range(1, 1000):\n",
    "    if i%3 == 0:\n",
    "        l1.append(i)"
   ]
  },
  {
   "cell_type": "markdown",
   "metadata": {},
   "source": [
    " - using list comprehension"
   ]
  },
  {
   "cell_type": "code",
   "execution_count": 73,
   "metadata": {},
   "outputs": [
    {
     "name": "stdout",
     "output_type": "stream",
     "text": [
      "76.2 µs ± 9.97 µs per loop (mean ± std. dev. of 7 runs, 10,000 loops each)\n"
     ]
    }
   ],
   "source": [
    "%%timeit\n",
    "[x for x in range(1,1000) if x%3==0]"
   ]
  },
  {
   "cell_type": "markdown",
   "metadata": {},
   "source": [
    "- slicing an existing list"
   ]
  },
  {
   "cell_type": "code",
   "execution_count": 85,
   "metadata": {},
   "outputs": [
    {
     "name": "stdout",
     "output_type": "stream",
     "text": [
      "22.7 µs ± 1.72 µs per loop (mean ± std. dev. of 7 runs, 10,000 loops each)\n"
     ]
    }
   ],
   "source": [
    "%%timeit\n",
    "l3 = list(range(1, 1001))\n",
    "l3[2:1000:3]"
   ]
  },
  {
   "cell_type": "markdown",
   "metadata": {},
   "source": [
    " - directly with `range()`"
   ]
  },
  {
   "cell_type": "code",
   "execution_count": 90,
   "metadata": {},
   "outputs": [
    {
     "name": "stdout",
     "output_type": "stream",
     "text": [
      "5.86 µs ± 257 ns per loop (mean ± std. dev. of 7 runs, 100,000 loops each)\n"
     ]
    }
   ],
   "source": [
    "%%timeit\n",
    "list(range(3,1000,3))"
   ]
  },
  {
   "cell_type": "markdown",
   "metadata": {},
   "source": [
    "### **Exercise 7:**\n",
    "Write a function to check if a string (containing spaces and capital letters, but no punctuation marks) is a palindrome (use help to see which functions are available for a string). \n"
   ]
  },
  {
   "cell_type": "code",
   "execution_count": null,
   "metadata": {},
   "outputs": [],
   "source": []
  },
  {
   "cell_type": "markdown",
   "metadata": {},
   "source": [
    "### **Exercise 8:**\n",
    "Write a function to find a character with a maximum number of occurences in a string. Return a tuple with that character and the number. You can ignore ties. Only use string's inbuilt functions and the function `max` (use help to see how to use it)."
   ]
  },
  {
   "cell_type": "code",
   "execution_count": null,
   "metadata": {},
   "outputs": [],
   "source": []
  },
  {
   "cell_type": "markdown",
   "metadata": {},
   "source": [
    "### **Exercise 9:**\n",
    "Write a function that return the first N prime numbers using the Sieve of Eratosphenes algorithm\n",
    "\n",
    "https://en.wikipedia.org/wiki/Sieve_of_Eratosthenes"
   ]
  },
  {
   "cell_type": "code",
   "execution_count": 21,
   "metadata": {},
   "outputs": [
    {
     "name": "stderr",
     "output_type": "stream",
     "text": [
      "'pwd' is not recognized as an internal or external command,\n",
      "operable program or batch file.\n"
     ]
    }
   ],
   "source": [
    "!pwd"
   ]
  },
  {
   "cell_type": "code",
   "execution_count": null,
   "metadata": {},
   "outputs": [],
   "source": [
    "def Sieve(N):\n",
    "    "
   ]
  }
 ],
 "metadata": {
  "kernelspec": {
   "display_name": "Python [conda env:ScientificPython] *",
   "language": "python",
   "name": "conda-env-ScientificPython-py"
  },
  "language_info": {
   "codemirror_mode": {
    "name": "ipython",
    "version": 3
   },
   "file_extension": ".py",
   "mimetype": "text/x-python",
   "name": "python",
   "nbconvert_exporter": "python",
   "pygments_lexer": "ipython3",
   "version": "3.11.7"
  }
 },
 "nbformat": 4,
 "nbformat_minor": 4
}
